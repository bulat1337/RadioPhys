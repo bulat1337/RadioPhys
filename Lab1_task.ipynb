{
 "cells": [
  {
   "cell_type": "markdown",
   "metadata": {
    "id": "caXtfoHZzA7v"
   },
   "source": [
    "#  Лабораторная работа №1 «Дискретизация аналоговых сигналов»\n",
    "\n"
   ]
  },
  {
   "cell_type": "markdown",
   "metadata": {},
   "source": [
    "Курс: Радиофизическая лаборатория (ФРКТ МФТИ).\n",
    "\n",
    "LMS: https://lms.mipt.ru/course/view.php?id=1569&type=lab\n",
    "* В имени этого файла заменить familyname на Ваши фамилию и имя, либо только фамилию.  "
   ]
  },
  {
   "cell_type": "markdown",
   "metadata": {
    "id": "KfmElNCFzA74"
   },
   "source": [
    "# Занятие 1. Классификация сигналов: аналоговые, дискретные, цифровые."
   ]
  },
  {
   "cell_type": "code",
   "execution_count": null,
   "metadata": {
    "id": "RBqGVGVCzA74"
   },
   "outputs": [
    {
     "ename": "",
     "evalue": "",
     "output_type": "error",
     "traceback": [
      "\u001b[1;31mRunning cells with 'Python 3.14.0' requires the ipykernel package.\n",
      "\u001b[1;31mInstall 'ipykernel' into the Python environment. \n",
      "\u001b[1;31mCommand: '/opt/homebrew/bin/python3 -m pip install ipykernel -U --user --force-reinstall'"
     ]
    }
   ],
   "source": [
    "import numpy as np                # импорт бибилиотеки numpy\n",
    "import matplotlib.pyplot as plt   # импорт модуля matplotlib.pyplot\n",
    "import scipy.io.wavfile # импорт модуля scipy.io.wavfile"
   ]
  },
  {
   "cell_type": "code",
   "execution_count": null,
   "metadata": {
    "id": "MizbEjGjzA75"
   },
   "outputs": [],
   "source": [
    "# Для использования backend matplotlib inline/widget/notebook, раскомментируйте соответствующую строку ниже.\n",
    "# Backend notebook используется в старых версиях. \n",
    "# Установка widget: pip install --upgrade jupyterlab ipympl\n",
    "%matplotlib inline\n",
    "# %matplotlib notebook\n",
    "# %matplotlib widget"
   ]
  },
  {
   "cell_type": "code",
   "execution_count": null,
   "metadata": {},
   "outputs": [],
   "source": [
    "def quantize_uniform(x, quant_min=-1, quant_max=1, quant_level=5):\n",
    "    \"\"\"Uniform quantization approach\n",
    "    From: Müller M. Fundamentals of music processing: Audio, analysis, algorithms, applications. – Springer, 2015.\n",
    "    Notebook: C2S2_DigitalSignalQuantization.ipynb\n",
    "    Args:\n",
    "        x: Original signal\n",
    "        quant_min: Minimum quantization level\n",
    "        quant_max: Maximum quantization level\n",
    "        quant_level: Number of quantization levels\n",
    "    Returns:\n",
    "        x_quant: Quantized signal\n",
    "    \"\"\"\n",
    "    x_normalize = (x-quant_min) * (quant_level-1) / (quant_max-quant_min)\n",
    "    x_normalize[x_normalize > quant_level - 1] = quant_level - 1\n",
    "    x_normalize[x_normalize < 0] = 0\n",
    "    x_normalize_quant = np.around(x_normalize)\n",
    "    x_quant = (x_normalize_quant) * (quant_max-quant_min) / (quant_level-1) + quant_min\n",
    "    return x_quant"
   ]
  },
  {
   "cell_type": "code",
   "execution_count": null,
   "metadata": {},
   "outputs": [],
   "source": [
    "import scipy.integrate as integrate # импорт модуля численного интегрирования\n",
    "def integrate_function(t, func, f, tau, real_part=True):\n",
    "    # Подынтегральное выражение для использованиия в функции integrate.quad\n",
    "    # t - время\n",
    "    # func - функция, задающая импульс\n",
    "    # f - частота\n",
    "    # tau - константа, используемая для задания длительности импульса\n",
    "    if real_part:\n",
    "        return func(t, tau)*np.cos(-2*np.pi*f*t)  # действительная часть интеграла\n",
    "    else:\n",
    "        return func(t, tau)*np.sin(-2*np.pi*f*t)  # мнимая часть интеграла\n",
    "def fourier_transform(signal, f_band, tau, t1, t2, res_type='abs'):\n",
    "    # вычисление преобразования Фурье для набора частот\n",
    "    # signal - функция от t и tau, задающая сигнал во временной области \n",
    "    # f_band - набор частот, для которых вычисляется преобразование Фурье\n",
    "    # tau - константа, используемая для задания длительности импульса\n",
    "    # t1 момент начала сигнала\n",
    "    # t2 момент завершения сигнала\n",
    "    # тип возвращаемого значения:\n",
    "    # res_type='abs' - |X(f)|\n",
    "    # res_type='Re' - Re X(f)\n",
    "    # res_type='Im' - Im X(f)\n",
    "    if res_type==\"abs\":\n",
    "        Re=np.array([integrate.quad(integrate_function, t1, t2, args=(signal, f, tau, True))[0] for f in f_band])\n",
    "        Im=np.array([integrate.quad(integrate_function, t1, t2, args=(signal, f, tau, False))[0] for f in f_band])\n",
    "        return abs(Re+1j*Im)\n",
    "    elif res_type==\"Re\":\n",
    "        Re=np.array([integrate.quad(integrate_function, t1, t2, args=(signal, f, tau, True))[0] for f in f_band])\n",
    "        return Re\n",
    "    elif res_type==\"Im\":\n",
    "        Im=np.array([integrate.quad(integrate_function, t1, t2, args=(signal, f, tau, False))[0] for f in f_band])\n",
    "        return Im"
   ]
  },
  {
   "cell_type": "markdown",
   "metadata": {
    "id": "JeQq1tyGu0iR"
   },
   "source": [
    "## Задача 0. Введение в Python 3. (Задание к допуску)\n",
    "\n",
    "1) Подгрузить библиотеку *Numpy* (`import numpy as np`).\n",
    "\n",
    "2) Создать массив от 1 до 10 с шагом 2 – [1, 3, 5, 7, 9] – тремя разными способами (используя  три разные функции `np.array()`, `np.arange()`, `np.linspace()`).\n",
    "\n",
    "3) Создать массив целых чисел от 0 до 100 (размерностью 100 элементов) максимально короткой записью.\n",
    "\n",
    "4) Создать массив `k`, такой же как описан в п.3. Используя его, создать массив (набор отсчетов) `x`, соответствующий формуле $x[k] = \\sin(2\\pi \\dfrac{f_0}{f_s}k)$, где $\\dfrac{f_0}{f_s}$ взять равным 0.07. Следует использовать функцию `np.sin()` и константу `np.pi`.\n",
    "\n",
    "5) Подгрузить модуль *pyplot* библиотеки *Matplotlib* (`import matplotlib.pyplot as plt`).\n",
    "\n",
    "6) Создать холст (другие названия полотно, канва) размером 12 на 5 дюйма (`figsize = [12, 5]`).\n",
    "\n",
    "7) Построить график $x[k]$ (`plt.plot(k, x)`), сделать подписи осей и заголовок графика.\n",
    "\n",
    "8) Поменять цвет линии графика из п.7 на красный или оранжевый и тип линии на пунктир. Построить на графике отсчеты $x[k]$ с помощью функции `plt.stem(k, x)`, см. Задача 1.1 и Задача 1.2.  \n",
    "(Для того чтобы поменять тип линии на пунктир, нужно в параметре отвечающем за цвет поставить модификатор \"--\", например `'--b'`.)\n",
    "\n",
    "9) Работа с функциями.\n",
    "  1. Создать функцию, соответствующую формуле $\\dfrac{\\sin(x)}{x}$. `def my_fun(x):`\n",
    "  2. Незабыть обработать неопределенность в 0.  \n",
    "  `if x=0:`  \n",
    "  ....`return 1`  \n",
    "  `else`  \n",
    "  ....`return np.sin(x)/x`\n",
    "  3. Выполнить п.4 и п.7, создав новый массив значений `y`, используя созданную вами функцию.\n",
    "\n",
    "10)  Выполнить п.4, только для массива `z`, который соответствует комплексной экспоненциальной функции $z[k] = \\exp(-j\\,2\\pi\\,\\dfrac{f_0}{f_s}k)$  (функция `np.exp()`). Выполнить п.7, но построить отдельно график реальной и график мнимой частей этой функции."
   ]
  },
  {
   "cell_type": "code",
   "execution_count": null,
   "metadata": {
    "id": "HsSorx-__FdR"
   },
   "outputs": [],
   "source": [
    "import numpy as np\n",
    "import matplotlib.pyplot as plt\n",
    "\n",
    "arr_a = np.array([1, 3, 5, 7, 9])\n",
    "arr_b = np.arange(1, 10, 2)\n",
    "arr_c = np.linspace(1, 9, 5, dtype=int)\n",
    "\n",
    "k = np.arange(100)\n",
    "ratio = 0.07\n",
    "x = np.sin(2 * np.pi * ratio * k)\n",
    "\n",
    "plt.figure(figsize=(12, 5))\n",
    "plt.plot(k, x)\n",
    "plt.xlabel('k')\n",
    "plt.ylabel('x[k]')\n",
    "plt.title('x[k] = sin(2π * 0.07 * k)')\n",
    "plt.grid(True)\n",
    "plt.show()\n",
    "\n",
    "plt.figure(figsize=(12, 5))\n",
    "plt.plot(k, x, 'r--', label='r-- (пунктир, красный)')\n",
    "plt.stem(k, x, basefmt=\" \", label='отсчеты (stem)')\n",
    "plt.xlabel('k')\n",
    "plt.ylabel('x[k]')\n",
    "plt.title('x[k] — пунктирная линия и отсчеты (stem)')\n",
    "plt.legend()\n",
    "plt.grid(True)\n",
    "plt.show()\n",
    "\n",
    "def my_fun(x):\n",
    "    x = np.asarray(x)\n",
    "    return np.where(x == 0, 1.0, np.sin(x) / x)\n",
    "\n",
    "y = my_fun(2 * np.pi * ratio * k)\n",
    "\n",
    "plt.figure(figsize=(12, 5))\n",
    "plt.plot(k, y, 'b-')\n",
    "plt.xlabel('k')\n",
    "plt.ylabel('y[k] = sin(θ)/θ, θ=2π·0.07·k')\n",
    "plt.title('y[k] = sinc-like функция my_fun(2π·0.07·k)')\n",
    "plt.grid(True)\n",
    "plt.show()\n",
    "\n",
    "z = np.exp(-1j * 2 * np.pi * ratio * k)\n",
    "\n",
    "plt.figure(figsize=(12, 5))\n",
    "plt.plot(k, z.real, label='Re{z[k]}')\n",
    "plt.xlabel('k')\n",
    "plt.ylabel('Re{z[k]}')\n",
    "plt.title('Реальная часть z[k] = exp(-j·2π·0.07·k)')\n",
    "plt.grid(True)\n",
    "plt.legend()\n",
    "plt.show()\n",
    "\n",
    "plt.figure(figsize=(12, 5))\n",
    "plt.plot(k, z.imag, label='Im{z[k]}')\n",
    "plt.xlabel('k')\n",
    "plt.ylabel('Im{z[k]}')\n",
    "plt.title('Мнимая часть z[k] = exp(-j·2π·0.07·k)')\n",
    "plt.grid(True)\n",
    "plt.legend()\n",
    "plt.show()"
   ]
  },
  {
   "cell_type": "markdown",
   "metadata": {
    "id": "836_2ql9zA75"
   },
   "source": [
    "## Задача 1.1. Дискретизация и квантование."
   ]
  },
  {
   "cell_type": "markdown",
   "metadata": {
    "id": "0vDQktWnzA76"
   },
   "source": [
    "| Варианты: |   1 |    2 |    3 |   4 |    5 |    6 |    7 |    8 |    9 |   10 |   11 |   12 |\n",
    "|:---------:|----:|-----:|-----:|----:|-----:|-----:|-----:|-----:|-----:|-----:|-----:|-----:|\n",
    "|     **N**     |  15 |   20 |   30 |  12 |   15 |   30 |   25 |   18 |   10 |   25 |   20 |   15 |\n",
    "|   $f_0$**, Гц**   | 200 |  250 |  400 | 200 |  600 |  750 | 1200 |  600 |  400 |  500 |  800 |  400 |\n",
    "|   $f_s$**, Гц**   | 500 | 1250 | 2000 | 600 | 1500 | 3750 | 6000 | 1800 | 1000 | 2500 | 4000 | 1200 |"
   ]
  },
  {
   "cell_type": "markdown",
   "metadata": {
    "id": "qbBt5kATzA76"
   },
   "source": [
    "Промоделировать дискретизацию и квантование синусоидального сигнала $x(t)=\\sin(2\\pi f_0 t)$ с частотой дискретизации $f_s$. Пронаблюдать эффекты во временной области для отрезка сигнала из $N$ отсчетов. \n",
    "\n",
    "1) Как соотносится растояние между отсчетами по оси времени с частотой дискретизации?\n",
    "\n",
    "**Ответ:**\n",
    "\n",
    "Расстояние между соседними отсчётами по оси времени:\n",
    "$$\n",
    "\\Delta t=\\frac{1}{f_s},\\qquad t_k=\\frac{k}{f_s}\\;(k=0,1,\\dots,N-1),\n",
    "$$\n",
    "\n",
    "длительность отрезка из $N$ отсчётов равна $(N-1)/f_s$ (приблизительно $N/f_s$ при большом $N$).\n",
    "\n",
    "\n",
    "2) Как изменяется максимально возможная абсолютная ошибка квантования $\\varepsilon[k]=|x[k]-y[k]|$ с ростом числа уровней квантования?\n",
    "\n",
    "**Ответ:**\n",
    "\n",
    "При равномерном квантовании на отрезке $[q_{\\min},q_{\\max}]$ шаг квантования\n",
    "$$\n",
    "\\Delta=\\frac{q_{\\max}-q_{\\min}}{L},\n",
    "$$\n",
    "где $L$ — число уровней. Теоретическая максимальная абсолютная ошибка\n",
    "$$\n",
    "\\varepsilon_{\\max}=\\frac{\\Delta}{2}=\\frac{q_{\\max}-q_{\\min}}{2L}.\n",
    "$$\n",
    "\n",
    "Поэтому с увелечением L ошибка уменьшится.\n",
    "\n"
   ]
  },
  {
   "cell_type": "code",
   "execution_count": null,
   "metadata": {
    "id": "TMcOI4clzA76"
   },
   "outputs": [],
   "source": [
    "N=25                                    # Число отсчетов по времени\n",
    "f0=200.0                                # Частота синусоиды в Гц\n",
    "fs=2000.0                               # Частота дискретизации в Гц\n",
    "k=np.arange(N)                          # Mассив времен k от 0 до N-1 с шагом 1\n",
    "x=np.sin(2*np.pi*(f0/fs)*k)             # Последовательность x[k]\n",
    "num_levels=8                      # число уровней квантования"
   ]
  },
  {
   "cell_type": "code",
   "execution_count": null,
   "metadata": {
    "colab": {
     "base_uri": "https://localhost:8080/",
     "height": 352
    },
    "id": "YXD26j6ozA77",
    "outputId": "2ead5e62-be55-4b37-9bb4-52c41e360910"
   },
   "outputs": [],
   "source": [
    "# Построение графиков аналогового и дискретизованного сигнала\n",
    "plt.figure(figsize=[8, 4])              # создание полотна размером шириной 8 X 4 дюйма\n",
    "t=np.linspace(0, N/fs, num=1024)        # создание массива времен t (1024 значения от 0 до N*fs)\n",
    "\n",
    "plt.plot(t, np.sin(2*np.pi*f0*t), 'g', label='аналоговый сигнал $x(t)$')  \n",
    "                                        # построение графика x(t) (точки соединяются линиями)\n",
    "                                        # 'g' означает, что используется зеленая линия (green)\n",
    "plt.stem(k/fs, x, linefmt='b', markerfmt='bo', label='дискретизованный сигнал $x[k]$')            \n",
    "                                        # построение графика функции дискретного времени x[k]\n",
    "                                        # 'b', 'bo' означает, что отсчеты оборажаются синим цветом (blue)\n",
    "plt.grid()                              # сетка\n",
    "plt.xlabel(\"$t$, c\")                    # подпись оси X\n",
    "plt.ylabel(\"$x(t), x[k]$\")              # подпись оси Y\n",
    "plt.title(\"Аналоговый и дискретизованный сигналы\") # заголовок графика\n",
    "plt.legend(loc='best', bbox_to_anchor=(1, -0.1))\n",
    "plt.tight_layout()                      # автоматическая корректировка расположения осей графика\n",
    "plt.show()"
   ]
  },
  {
   "cell_type": "code",
   "execution_count": null,
   "metadata": {
    "id": "YLHhjxX1zA77"
   },
   "outputs": [],
   "source": [
    "# моделирование квантования дискретного сигнала\n",
    "y=quantize_uniform(x, quant_min=-1, quant_max=1, quant_level=num_levels)\n",
    "bins=np.linspace(-1, 1, num_levels)"
   ]
  },
  {
   "cell_type": "code",
   "execution_count": null,
   "metadata": {
    "colab": {
     "base_uri": "https://localhost:8080/",
     "height": 352
    },
    "id": "zcCcv6IMzA78",
    "outputId": "22318494-f841-4119-abe5-c5164fc6d2ee",
    "scrolled": false
   },
   "outputs": [],
   "source": [
    "# Вывод графика аналогового и цифрового сигнала\n",
    "plt.figure(figsize=[8, 4])                  # создание полотна размером шириной 8 X 4 дюйма\n",
    "t=np.linspace(0, N/fs, num=1024)            # создание массива времен t (1024 значения от 0 до N*fs)\n",
    "plt.plot(t, np.sin(2*np.pi*f0*t), 'g', label='аналоговый сигнал $x(t)$')        \n",
    "                                            # построение графика x(t) (точки соединяются линиями)\n",
    "\n",
    "plt.stem(k/fs, y, linefmt='b', markerfmt='bo', label='цифровой сигнал $y[k]$')                \n",
    "                                            # построение графика функции дискретного времени y[k]\n",
    "                                            # k/fs - м\n",
    "    \n",
    "if num_levels<21:                           # если число уровней не велико, то производится\n",
    "    plt.yticks(bins)                        # установка делений шкалы оси Y, совпадающих с уровнями квантования\n",
    "\n",
    "plt.grid()                                  # сетка\n",
    "plt.xlabel(\"$t$, c\")                        # подпись оси X\n",
    "plt.ylabel(\"$x(t), y[k]$\")                  # подпись оси Y\n",
    "plt.title(\"Аналоговый и цифровой сигналы\")  # заголовок графика\n",
    "plt.legend(loc='best', bbox_to_anchor=(1, -0.1))\n",
    "plt.tight_layout()                          # автоматическая корректировка расположения осей графика\n",
    "plt.show()"
   ]
  },
  {
   "cell_type": "code",
   "execution_count": null,
   "metadata": {
    "colab": {
     "base_uri": "https://localhost:8080/"
    },
    "id": "u7aJGk1wY6Zh",
    "outputId": "8f05cb35-e202-4667-85be-84fea4580b72"
   },
   "outputs": [],
   "source": [
    "abs(x-y)"
   ]
  },
  {
   "cell_type": "code",
   "execution_count": null,
   "metadata": {
    "colab": {
     "base_uri": "https://localhost:8080/",
     "height": 352
    },
    "id": "yDxbtXmjzA78",
    "outputId": "85c991e7-24e6-4bcc-bc9f-d07d67dc2e49"
   },
   "outputs": [],
   "source": [
    "plt.figure(figsize=[8, 4])\n",
    "plt.title(\"Ошибка квантования\") \n",
    "plt.plot(t, np.sin(2*np.pi*f0*t), 'g', label='аналоговый сигнал $x(t)$')\n",
    "plt.stem(k/fs, abs(x-y), linefmt='m', markerfmt='mo', label=\"абсолютная ошибка \\nквантования \\n$\\\\epsilon[k]=|x[k]-y[k]|$\")       \n",
    "                                      #вывод абсолютных значений ошибки квантования для дискретного сигнала\n",
    "plt.yticks(bins)\n",
    "plt.grid()\n",
    "plt.xlabel(\"$t$, c\")                                          # подпись оси X\n",
    "plt.ylabel(\"$x(t), \\\\varepsilon[k]=|x[k]-y[k]|$\")             # подпись оси Y\n",
    "plt.legend(loc='best', bbox_to_anchor=(1, -0.1))\n",
    "plt.tight_layout() \n",
    "plt.show()"
   ]
  },
  {
   "cell_type": "markdown",
   "metadata": {
    "id": "919ZI8cWzA78"
   },
   "source": [
    "## Задача 1.2. Декодирование .wav файла"
   ]
  },
  {
   "cell_type": "markdown",
   "metadata": {
    "id": "fJgb7bJgTRDG"
   },
   "source": [
    "| Варианты: |       1      |     2     |         3        |      4     |        5        |        6       |         7        |       8      |        9       |     10    |        11       |     12     |\n",
    "|:---------:|:------------:|:---------:|:----------------:|:----------:|:---------------:|:--------------:|:----------------:|:------------:|:--------------:|:---------:|:---------------:|:----------:|\n",
    "| **Имя файла** | clarinet.wav | flute.wav | glockenspiel.wav | guitar.wav | tuning-fork.wav | vibraphone.wav | glockenspiel.wav | clarinet.wav | vibraphone.wav | flute.wav | tuning-fork.wav | guitar.wav |"
   ]
  },
  {
   "cell_type": "markdown",
   "metadata": {
    "id": "gzhnOLjQzA79"
   },
   "source": [
    "Декодируйте .wav файл в соотвествии с Вашим вариантом из таблицы. \n",
    "\n",
    "1) Определите частоту дискретизации, битную глубину записи (соотвествует dtype) и соотвествующее ей колличество уровней квантования. \n",
    "\n",
    "2) Сравните растояние между отсчетами по оси времени на графике с частотой дискретизации.\n",
    "\n",
    "3) Поменяйте ось времени (первый аргумент функции `plt.plot`) так, чтобы первому отсчету наблюдаемого диапазона соотвествовало время от начала файла.\n",
    "\n",
    "4) Определите длину записи в секундах.\n",
    "\n",
    "5) Оцените объем файла в килобайтах (КБ), при условии, что никакое дополнительное сжатие не производится (использовать данные о частоте дискретизации, числе отсчетов и битовой глубине). Сравние с реальным объемом файла. "
   ]
  },
  {
   "cell_type": "code",
   "execution_count": null,
   "metadata": {
    "colab": {
     "base_uri": "https://localhost:8080/",
     "height": 75
    },
    "id": "JJeQWH7-zA79",
    "outputId": "5b2289c2-f145-45dd-8662-44579a9c11c3"
   },
   "outputs": [],
   "source": [
    "from IPython.display import Audio\n",
    "Audio('tuning-fork.wav')"
   ]
  },
  {
   "cell_type": "code",
   "execution_count": null,
   "metadata": {
    "id": "wa6588LazA79"
   },
   "outputs": [],
   "source": [
    "fs, x = scipy.io.wavfile.read('tuning-fork.wav') # чтение аудиофайла "
   ]
  },
  {
   "cell_type": "code",
   "execution_count": null,
   "metadata": {
    "colab": {
     "base_uri": "https://localhost:8080/"
    },
    "id": "bnxBKTUvzA79",
    "outputId": "1a911feb-cc69-4232-c5c6-37f75f8c6b5d"
   },
   "outputs": [],
   "source": [
    "fs     #частота дискретизации в Гц"
   ]
  },
  {
   "cell_type": "code",
   "execution_count": null,
   "metadata": {
    "colab": {
     "base_uri": "https://localhost:8080/"
    },
    "id": "UG3vuh-0zA7-",
    "outputId": "dfce63d2-d33e-43a9-b5d2-1fc40a8d5e22"
   },
   "outputs": [],
   "source": [
    "x      #массив значений x[k]"
   ]
  },
  {
   "cell_type": "code",
   "execution_count": null,
   "metadata": {
    "colab": {
     "base_uri": "https://localhost:8080/"
    },
    "id": "q8upZMVZLoVI",
    "outputId": "5b4c206e-54fe-4ca0-9d3b-3dd859cd8c10"
   },
   "outputs": [],
   "source": [
    "print(x.dtype) #тип данных для значений x[k]"
   ]
  },
  {
   "cell_type": "code",
   "execution_count": null,
   "metadata": {
    "colab": {
     "base_uri": "https://localhost:8080/"
    },
    "id": "IvUiisSdzA7-",
    "outputId": "c62c6f16-a8ce-458b-f35c-ace8e17376d1"
   },
   "outputs": [],
   "source": [
    "x.size #размер массива"
   ]
  },
  {
   "cell_type": "code",
   "execution_count": null,
   "metadata": {
    "colab": {
     "base_uri": "https://localhost:8080/",
     "height": 296
    },
    "id": "ZidEwVDBzA7-",
    "outputId": "72496d2d-5676-4afc-89f0-184b553ddaba"
   },
   "outputs": [],
   "source": [
    "x1=x[8000:10000]                     # выбор наблюдаемого диапазона\n",
    "k=np.arange(x1.size)               # отсчеты по времени\n",
    "# Построение графиков \n",
    "plt.figure(figsize=[8, 4])         # создание полотна размером шириной 8 X 4 дюйма\n",
    "plt.plot(k/fs, x1, 'b.')           # построение графика цифрового сигнала точками точками\n",
    "plt.grid()                             \n",
    "plt.xlabel(\"$t$, c\")                      \n",
    "plt.ylabel(\"$x[k]$\")             \n",
    "plt.tight_layout()\n",
    "plt.show()"
   ]
  },
  {
   "cell_type": "markdown",
   "metadata": {},
   "source": [
    "Программа для ответа на вопросы:"
   ]
  },
  {
   "cell_type": "code",
   "execution_count": null,
   "metadata": {},
   "outputs": [],
   "source": [
    "import os\n",
    "import wave\n",
    "import glob\n",
    "import numpy as np\n",
    "import scipy.io.wavfile as wavfile\n",
    "import matplotlib.pyplot as plt\n",
    "\n",
    "audio_dir = \"audio\"\n",
    "plot_out_dir = \"audio_plots\"\n",
    "os.makedirs(plot_out_dir, exist_ok=True)\n",
    "\n",
    "windows = [\n",
    "    (8000, 10000),\n",
    "    (8000, 10000),\n",
    "    (8000, 10000),\n",
    "    (8000, 10000),\n",
    "    (8000, 10000),\n",
    "    (8000, 10000)\n",
    "]\n",
    "\n",
    "wav_paths = sorted(glob.glob(os.path.join(audio_dir, \"*.wav\")))\n",
    "\n",
    "for i, path in enumerate(wav_paths):\n",
    "    name = os.path.basename(path)\n",
    "    base, _ = os.path.splitext(name)\n",
    "\n",
    "    start, end = windows[i % len(windows)]\n",
    "\n",
    "    with wave.open(path, \"rb\") as wf:\n",
    "        nchannels = wf.getnchannels()\n",
    "        sampwidth = wf.getsampwidth()\n",
    "        framerate  = wf.getframerate()\n",
    "        nframes    = wf.getnframes()\n",
    "        comptype   = wf.getcomptype()\n",
    "\n",
    "    bits_per_sample = sampwidth * 8\n",
    "\n",
    "    fs, x = wavfile.read(path)\n",
    "\n",
    "    if x.ndim == 1:\n",
    "        x = x.reshape(-1, 1)\n",
    "\n",
    "    n_samples = x.shape[0]\n",
    "    channels = x.shape[1]\n",
    "\n",
    "    start = int(start)\n",
    "    end = int(end)\n",
    "    if start < 0:\n",
    "        start = 0\n",
    "    if end <= start:\n",
    "        end = min(start + 1, n_samples)\n",
    "    if start >= n_samples:\n",
    "        start = 0\n",
    "        end = min(1, n_samples)\n",
    "    if end > n_samples:\n",
    "        end = n_samples\n",
    "\n",
    "    x_window = x[start:end, 0]\n",
    "    k_local = np.arange(x_window.size)\n",
    "\n",
    "    k_window = np.arange(start, end)\n",
    "    times_window = k_window / fs\n",
    "    dt_mean = float(np.mean(np.diff(times_window))) if len(times_window) > 1 else None\n",
    "\n",
    "    duration_seconds = nframes / fs\n",
    "    estimated_bytes = nframes * channels * (bits_per_sample // 8)\n",
    "    estimated_kb = estimated_bytes / 1024.0\n",
    "    actual_bytes = os.path.getsize(path)\n",
    "    actual_kb = actual_bytes / 1024.0\n",
    "    ratio = (actual_kb / estimated_kb) if estimated_kb > 0 else float('nan')\n",
    "\n",
    "    print(f\"\\nfile: {name}\")\n",
    "    print(f\"applied window #{i % len(windows)}: start={start}, end={end} (samples)\")\n",
    "    print(f\"fs = {fs} Hz, channels = {channels}, sampwidth = {sampwidth} байт, bits_per_sample = {bits_per_sample}\")\n",
    "    print(f\"dtype scipy = {x.dtype}\", end=\"\")\n",
    "    print(f\", bits_from_dtype = {x.dtype.itemsize * 8}, levels = {2 ** (x.dtype.itemsize * 8)}\")\n",
    "    print(f\"nframes = {nframes}, duration_seconds = {duration_seconds:.6f} s\")\n",
    "    print(f\"средний шаг в окне dt_mean = {dt_mean} s, 1/fs = {1.0/fs} s, разница = {None if dt_mean is None else dt_mean - 1.0/fs}\")\n",
    "    print(f\"estimated size= {estimated_kb:.2f} kb, actual_kb = {actual_kb:.2f} kb, ratio = {ratio:.3f}\")\n",
    "\n",
    "    plt.figure(figsize=(10,4))\n",
    "    plt.subplot(1,2,1)\n",
    "    plt.plot(k_local / fs, x_window, '.')\n",
    "    plt.title(f\"{base}: k_local/fs\")\n",
    "    plt.xlabel(\"t, s\")\n",
    "    plt.grid(True)\n",
    "\n",
    "    plt.subplot(1,2,2)\n",
    "    t_correct = (start + k_local) / fs\n",
    "    plt.plot(t_correct, x_window, '.')\n",
    "    plt.title(f\"{base}: время от начала файла\")\n",
    "    plt.xlabel(\"t, s\")\n",
    "    plt.grid(True)\n",
    "\n",
    "    out_png = os.path.join(plot_out_dir, f\"{base}_analysis.png\")\n",
    "    plt.tight_layout()\n",
    "    plt.savefig(out_png, dpi=150)\n",
    "    plt.close()\n"
   ]
  },
  {
   "cell_type": "markdown",
   "metadata": {},
   "source": [
    "Вывод программы:\n",
    "\n",
    "```\n",
    "file: clarinet.wav\n",
    "applied window #0: start=8000, end=10000 (samples)\n",
    "fs = 44100 Hz, channels = 1, sampwidth = 2 байт, bits_per_sample = 16\n",
    "dtype scipy = int16, bits_from_dtype = 16, levels = 65536\n",
    "nframes = 183808, duration_seconds = 4.167982 s\n",
    "средний шаг в окне dt_mean = 2.2675736961451248e-05 s, 1/fs = 2.2675736961451248e-05 s, разница = 0.0\n",
    "estimated size= 359.00 kb, actual_kb = 363.00 kb, ratio = 1.011\n",
    "\n",
    "file: flute.wav\n",
    "applied window #1: start=8000, end=10000 (samples)\n",
    "fs = 48000 Hz, channels = 1, sampwidth = 4 байт, bits_per_sample = 32\n",
    "dtype scipy = int32, bits_from_dtype = 32, levels = 4294967296\n",
    "nframes = 528000, duration_seconds = 11.000000 s\n",
    "средний шаг в окне dt_mean = 2.0833333333333343e-05 s, 1/fs = 2.0833333333333333e-05 s, разница = 1.0164395367051604e-20\n",
    "estimated size= 2062.50 kb, actual_kb = 2062.54 kb, ratio = 1.000\n",
    "\n",
    "file: glockenspiel.wav\n",
    "applied window #2: start=8000, end=10000 (samples)\n",
    "fs = 96000 Hz, channels = 1, sampwidth = 4 байт, bits_per_sample = 32\n",
    "dtype scipy = int32, bits_from_dtype = 32, levels = 4294967296\n",
    "nframes = 129373, duration_seconds = 1.347635 s\n",
    "средний шаг в окне dt_mean = 1.0416666666666671e-05 s, 1/fs = 1.0416666666666666e-05 s, разница = 5.082197683525802e-21\n",
    "estimated size= 505.36 kb, actual_kb = 505.41 kb, ratio = 1.000\n",
    "\n",
    "file: guitar.wav\n",
    "applied window #3: start=8000, end=10000 (samples)\n",
    "fs = 44100 Hz, channels = 1, sampwidth = 2 байт, bits_per_sample = 16\n",
    "dtype scipy = int16, bits_from_dtype = 16, levels = 65536\n",
    "nframes = 639450, duration_seconds = 14.500000 s\n",
    "средний шаг в окне dt_mean = 2.2675736961451248e-05 s, 1/fs = 2.2675736961451248e-05 s, разница = 0.0\n",
    "estimated size= 1248.93 kb, actual_kb = 1248.98 kb, ratio = 1.000\n",
    "\n",
    "file: tuning-fork.wav\n",
    "applied window #4: start=8000, end=10000 (samples)\n",
    "fs = 44100 Hz, channels = 1, sampwidth = 2 байт, bits_per_sample = 16\n",
    "dtype scipy = int16, bits_from_dtype = 16, levels = 65536\n",
    "nframes = 135680, duration_seconds = 3.076644 s\n",
    "средний шаг в окне dt_mean = 2.2675736961451248e-05 s, 1/fs = 2.2675736961451248e-05 s, разница = 0.0\n",
    "estimated size= 265.00 kb, actual_kb = 265.04 kb, ratio = 1.000\n",
    "\n",
    "file: vibraphone.wav\n",
    "applied window #5: start=8000, end=10000 (samples)\n",
    "fs = 44100 Hz, channels = 1, sampwidth = 2 байт, bits_per_sample = 16\n",
    "dtype scipy = int16, bits_from_dtype = 16, levels = 65536\n",
    "nframes = 143336, duration_seconds = 3.250249 s\n",
    "средний шаг в окне dt_mean = 2.2675736961451248e-05 s, 1/fs = 2.2675736961451248e-05 s, разница = 0.0\n",
    "estimated size= 279.95 kb, actual_kb = 280.00 kb, ratio = 1.000\n",
    "```"
   ]
  },
  {
   "cell_type": "markdown",
   "metadata": {
    "id": "gszbh-8szA7-"
   },
   "source": [
    "# Занятие 2. Спектры импульсных и периодических сигналов."
   ]
  },
  {
   "cell_type": "markdown",
   "metadata": {
    "id": "fTzdDOJmzA7_"
   },
   "source": [
    "## Задача 2.1. Спектры симметричных оконных функций"
   ]
  },
  {
   "cell_type": "markdown",
   "metadata": {
    "id": "dIfg1MAFdCgS"
   },
   "source": [
    "|  Варианты:  |  1  |  2  |   3  |   4  |  5  |   6  |  7  |   8  |   9  |  10 |  11  |  12  |\n",
    "|:-----------:|:---:|:---:|:----:|:----:|:---:|:----:|:---:|:----:|:----:|:---:|:----:|:----:|\n",
    "| $\\tau$**, мкс** | 100 | 500 | 1000 | 5000 | 400 | 2000 | 300 | 1500 | 3000 | 800 | 3500 | 4000 |\n"
   ]
  },
  {
   "cell_type": "markdown",
   "metadata": {
    "id": "3a37hANAzA7_"
   },
   "source": [
    "Ниже приведен пример вычисления модуля спектральной плотности $|X(f)|$ для прямоугольного окна длительностью $\\tau=150$ мкс. \n",
    "\n",
    "Для заданного параметра $\\tau$ из таблицы, построить графики модуля спектральной плотности $|X(f)|$ для прямоугольного окна, \n",
    "$$w_b(t)=\\left\\{ \\begin{matrix}\n",
    "   1, & \\text{ }\\text{если }|t|\\le \\tau /2,  \\\\\n",
    "   0, & \\text{ }\\text{если }|t|>\\tau /2; \\\\\n",
    "\\end{matrix} \\right.$$\n",
    "треугольного окна\n",
    "$$w_t(t)=\\left\\{ \\begin{matrix}\n",
    "   1-\\dfrac{|t|}{\\tau /2}, & \\text{ }\\text{если }|t|\\le \\tau /2,  \\\\\n",
    "   0, & \\text{ }\\text{если }|t|>\\tau /2.  \\\\\n",
    "\\end{matrix} \\right.$$\n",
    " и окна Ханна\n",
    "$$w_H(t)=\\left\\{ \\begin{matrix}\n",
    "   \\dfrac{1}{2}\\left( 1+\\cos \\left( 2\\pi \\dfrac{t}{\\tau } \\right) \\right), & \\text{ }\\text{если }|t|\\le \\tau /2,  \\\\\n",
    "   0, & \\text{ }\\text{если }|t|>\\tau /2.  \\\\\n",
    "\\end{matrix} \\right.$$\n",
    "\n",
    "\n",
    "\n",
    "Привести аналитические формулы спектральной плотности для этих импульсов. \n",
    "Определить \n",
    "* а) уровни первого бокового лепестка относительно главного в $|X(f)|$ (практич.) в дБ ($20\\lg  \\left|\\dfrac{X(f)}{X(0)}\\right| $ ),\n",
    "* б) расположение нулей $|X(f)|$ (практич. и теоретическое).\n",
    "\n",
    "Заполнить таблицу для трех окон."
   ]
  },
  {
   "cell_type": "markdown",
   "metadata": {
    "id": "S_-xvwxCKBqh"
   },
   "source": [
    "| Окна  |   Уровень первого бокового лепестка относительно главного, дБ  |  Ширина главного лепестка, Гц  |\n",
    "|:-----------:|:---:|:---:|\n",
    "| прямоугольное |     |       |\n",
    "| треугольное |     |       |\n",
    "| Ханна |     |       |\n"
   ]
  },
  {
   "cell_type": "code",
   "execution_count": null,
   "metadata": {
    "colab": {
     "base_uri": "https://localhost:8080/",
     "height": 577
    },
    "id": "WhcjsfYezA7_",
    "outputId": "5591d4f6-7cd9-4b9b-9212-1cda3078a0e3"
   },
   "outputs": [],
   "source": [
    "tau=100e-6 #100 мкс\n",
    "\n",
    "f_band=np.linspace(-8/tau, 8/tau, 500) # 500 - число точек в диапазоне, в которых вычисляется X(f)\n",
    "\n",
    "def boxcar(t, tau):\n",
    "    if abs(t)<tau/2:\n",
    "        return 1.0                 \n",
    "    else:\n",
    "        return 0.0                 \n",
    "    \n",
    "t_band=np.linspace(-2*tau, 2*tau, 1024)\n",
    "plt.figure(figsize=[6, 4])\n",
    "plt.plot(t_band*1e6, [boxcar(t, tau) for t in t_band])\n",
    "plt.xlabel(\"Время $t$, мкс\")\n",
    "plt.ylabel(\"$x(t)$, В\")\n",
    "plt.title(\"Сигнал\")\n",
    "plt.tight_layout() \n",
    "plt.grid()\n",
    "\n",
    "plt.figure(figsize=[6, 4])\n",
    "plt.plot(f_band/1e3, fourier_transform(signal=boxcar, f_band=f_band, tau=tau, t1=-tau/2, t2=tau/2, res_type=\"abs\")*1e6)\n",
    "plt.xlabel(\"Частота $f$, кГц\")\n",
    "plt.ylabel(\"$|X(f)|$,  мкВ / Гц\")\n",
    "plt.title(\"Спектр\")\n",
    "plt.tight_layout() \n",
    "plt.grid()\n",
    "plt.show()"
   ]
  },
  {
   "cell_type": "markdown",
   "metadata": {
    "id": "yeFBB_AAzA8A"
   },
   "source": [
    "## Задача 2.2. Теорема запаздывания для преобразования Фурье"
   ]
  },
  {
   "cell_type": "markdown",
   "metadata": {
    "id": "ONaNtu66hIDT"
   },
   "source": [
    "|  Варианты:  |  1  |  2  |   3  |   4  |  5  |   6  |  7  |   8  |   9  |  10 |  11  |  12  |\n",
    "|:-----------:|:---:|:---:|:----:|:----:|:---:|:----:|:---:|:----:|:----:|:---:|:----:|:----:|\n",
    "|     **E, В**    | 0.1 | 0.5 |   1  |   5  |  1  |   5  | 0.5 |  2.5 |   6  | 1.6 |   7  |   8  |\n",
    "| **$\\tau$, мкс** | 100 | 500 | 1000 | 5000 | 400 | 2000 | 300 | 1500 | 3000 | 800 | 3500 | 4000 |"
   ]
  },
  {
   "cell_type": "markdown",
   "metadata": {
    "id": "XqCVM-avzA8A"
   },
   "source": [
    "Ниже приведен пример вычисления спектральной плотности для несимметричного прямоугольного импульса амплитудой $E=0.1$ В, длительностью $\\tau=100$ мкс. В данном случае импульс начинается в начале отсчета оси времени. \n",
    "\n",
    "Для заданных параметров $E$ и $\\tau$ из таблицы, построить и сравнить графики $\\text{Re} X(f)$, $\\text{Im} X(f)$, $|X(f)|$ для прямоугольного импульса, начинающегося в моменты времени $-\\tau /2$ и $0$. Как согласуются результаты с теоремой запаздывания для преобразования Фурье?\n"
   ]
  },
  {
   "cell_type": "code",
   "execution_count": null,
   "metadata": {
    "colab": {
     "base_uri": "https://localhost:8080/",
     "height": 577
    },
    "id": "NNM-QXnVzA8A",
    "outputId": "343852ac-8c0d-49d3-c1bc-d21d27235fd9"
   },
   "outputs": [],
   "source": [
    "tau=150*1e-6 #150 мкс\n",
    "\n",
    "f_band=np.linspace(-4/tau, 4/tau, 1000) # 1000 - число точек в диапазоне, в которых вычисляется X(f)\n",
    "\n",
    "def boxcar(t, tau):\n",
    "    if 0<t<tau:\n",
    "        return 0.1 # 0.1 В\n",
    "    else:\n",
    "        return 0.0 # 0 В\n",
    "    \n",
    "t_band=np.linspace(-2*tau, 2*tau, 1024)\n",
    "plt.figure(figsize=[8, 4])\n",
    "plt.plot(t_band*1e6, [boxcar(t, tau) for t in t_band])\n",
    "plt.xlabel(\"Время $t$, мкс\")\n",
    "plt.ylabel(\"$x(t)$, В\")\n",
    "plt.title(\"Сигнал\")\n",
    "plt.tight_layout() \n",
    "plt.grid()\n",
    "plt.show()\n",
    "\n",
    "plt.figure(figsize=[8, 4])\n",
    "plt.plot(f_band/1e3, fourier_transform(signal=boxcar, f_band=f_band, tau=tau, t1=-2*tau, t2=2*tau, res_type=\"abs\")*1e6, label='$|X(f)|$')\n",
    "plt.plot(f_band/1e3, fourier_transform(signal=boxcar, f_band=f_band, tau=tau, t1=-2*tau, t2=2*tau, res_type=\"Re\")*1e6, label='${Re }X(f)$')\n",
    "plt.plot(f_band/1e3, fourier_transform(signal=boxcar, f_band=f_band, tau=tau, t1=-2*tau, t2=2*tau, res_type=\"Im\")*1e6, label='${Im }X(f)$')\n",
    "plt.xlabel(\"Частота $f$, кГц\")\n",
    "plt.ylabel(\"$|X(f)|$,  мкВ / Гц\")\n",
    "plt.title(\"Спектр\")\n",
    "plt.legend(loc='best', bbox_to_anchor=(1, 1))\n",
    "plt.tight_layout() \n",
    "plt.grid()\n",
    "plt.show()"
   ]
  },
  {
   "cell_type": "markdown",
   "metadata": {
    "id": "zzPUYsP4zA8A"
   },
   "source": [
    "## Задача 2.3. Спектр отрезка синусоиды"
   ]
  },
  {
   "cell_type": "markdown",
   "metadata": {
    "id": "vf83nswMjRI_"
   },
   "source": [
    "|  Варианты:  |  1  |  2  |  3  |  4  |  5  |  6 |  7  |  8  |  9  | 10 |  11 |  12 |\n",
    "|:-----------:|:---:|:---:|:---:|:---:|:---:|:--:|:---:|:---:|:---:|:--:|:---:|:---:|\n",
    "|  $f_0$**, кГц** |  10 | 100 |  60 |  40 |  65 | 90 |  30 |  20 |  55 | 75 |  35 |  50 |\n",
    "| $\\tau$**, мкс** | 500 | 50  | 100 | 125 | 100 | 55 | 200 | 225 | 109 | 60 | 171 | 100 |"
   ]
  },
  {
   "cell_type": "markdown",
   "metadata": {
    "id": "M-EFcCxKzA8A"
   },
   "source": [
    "Ниже приведен пример вычисления спектральной плотности для отрезка синусоиды $x(t)=\\sin(2\\pi f_0 t)$ c частотой $f_0=10$ кГц длительностью  $\\tau=500$  мкс. \n",
    "\n",
    "Для заданных параметров  $f_0$  и  $\\tau$  из таблицы, построить $|X(f)|$ для отрезка синусоиды $x(t)=\\sin(2\\pi f_0 t)$ c частотой $f_0$ длительностью  $\\tau$. \n",
    "\n",
    "1) Сравнить положение главных спектральных максимумов с частотой синусоиды. \n",
    "\n",
    "2) Повторить вычисления для отрезка синусоиды, взвешанного окном Ханна соотвествующей длины. Сравнить ширину главного лепестка на нулевом уровне и значение  $|X(f)|$ на частоте $f_0$ для сигнала $x(t)$, взвешанного прямоугольным окном и окном Ханна.\n",
    "\n",
    "3) Сравнить спектр периодического сигнала  $x(t)=\\sin(2\\pi f_0 t)$ с получившимися графиками. "
   ]
  },
  {
   "cell_type": "code",
   "execution_count": null,
   "metadata": {
    "colab": {
     "base_uri": "https://localhost:8080/",
     "height": 577
    },
    "id": "c9CbbRnAzA8B",
    "outputId": "45ea1a35-8fb3-4216-cfd4-8f7fd93badb6"
   },
   "outputs": [],
   "source": [
    "f0=10*1e3       # 10 кГц\n",
    "tau=500*1e-6    # 500 мкс\n",
    "\n",
    "def sin_with_boxcar(t, tau):                            \n",
    "    if 0<=t<=tau:\n",
    "        # случай прямоугольного окна\n",
    "        return np.sin(2*np.pi*f0*t) \n",
    "        # случай окна Ханна\n",
    "        # return np.sin(2*np.pi*f0*t) * (0.5+0.5*np.cos(np.pi*(t-tau/2)/(tau/2)))\n",
    "    else:\n",
    "        return 0.0\n",
    "    \n",
    "f_band=np.linspace(-2*f0, 2*f0, 2000) \n",
    "\n",
    "t_band=np.linspace(-0.5*tau, 1.5*tau, 1024)\n",
    "plt.figure(figsize=[8, 4])\n",
    "plt.plot(t_band*1e6, [sin_with_boxcar(t, tau) for t in t_band])\n",
    "plt.title(\"Сигнал\")\n",
    "plt.xlabel(\"Время $t$, мкс\")\n",
    "plt.ylabel(\"$x(t)$, В\")\n",
    "plt.tight_layout() \n",
    "plt.grid()\n",
    "plt.show()\n",
    "\n",
    "plt.figure(figsize=[8, 4])\n",
    "plt.plot(f_band/1e3, fourier_transform(signal=sin_with_boxcar, f_band=f_band, tau=tau, t1=-2*tau, t2=2*tau, res_type=\"abs\")*1e6)\n",
    "plt.title(\"Спектр\")\n",
    "plt.xlabel(\"Частота $f$, кГц\")\n",
    "plt.ylabel(\"$|X(f)|$,  мкВ / Гц\")\n",
    "plt.tight_layout() \n",
    "plt.grid()\n",
    "plt.show()"
   ]
  },
  {
   "cell_type": "markdown",
   "metadata": {
    "id": "BK2w85v8zA8B"
   },
   "source": [
    "## Задача 2.4. Спектр пачки равноотстоящих импульсов"
   ]
  },
  {
   "cell_type": "markdown",
   "metadata": {
    "id": "tGMF04lsw8SN"
   },
   "source": [
    "|    Варианты:    |  1  |  2  |  3  |  4  |  5  |  6  |  7  |  8  |  9  |  10 |  11 |  12 |\n",
    "|:---------------:|:---:|:---:|:---:|:---:|:---:|:---:|:---:|:---:|:---:|:---:|:---:|:---:|\n",
    "|        N        |  3  |  4  |  3  |  4  |  3  |  4  |  3  |  4  |  3  |  4  |  3  |  4  |\n",
    "| $\\tau$**, мкс**     | 300 | 50  | 100 | 125 | 250 | 60  | 200 | 400 | 500 | 150 | 450 | 100 |\n",
    "| $T_{period}$**, мкс** | 600 | 125 | 200 | 275 | 500 | 100 | 400 | 700 | 800 | 300 | 810 | 200 |"
   ]
  },
  {
   "cell_type": "markdown",
   "metadata": {
    "id": "cCMqoQYHzA8B"
   },
   "source": [
    "Ниже приведен пример вычисления спектр пачки из $N=4$ равноотстоящих импульсов длительностью $\\tau = 100$ мкс с периодом повторения $T_{period}=400$ мкс.\n",
    "\n",
    "Повторить вычисления для заданных значений $N$, $\\tau$, $T_{period}$. Сравнить получившийся график с аналитическим выражением для спектра.\n"
   ]
  },
  {
   "cell_type": "code",
   "execution_count": null,
   "metadata": {
    "colab": {
     "base_uri": "https://localhost:8080/",
     "height": 611
    },
    "id": "eLxoiDo8zA8B",
    "outputId": "61c7142c-75f0-45ba-8c80-471243e8c665"
   },
   "outputs": [],
   "source": [
    "N=3\n",
    "tau=100e-6 #100 мкс\n",
    "period = 400e-6 \n",
    "\n",
    "f_band=np.linspace(-4/tau, 4/tau, 2000) # 2000 - число точек в диапазоне, в которых вычисляется X(f)\n",
    "\n",
    "def boxcar(t, tau):\n",
    "    \n",
    "    for n in range(N):\n",
    "        tau0 = period * n\n",
    "        tau1 = tau + period * n\n",
    "        if tau0 < t < tau1:\n",
    "            return 0.1 # 0.1 В\n",
    "    return 0.0 # 0 В\n",
    "    \n",
    "t_band=np.linspace(-0.5*tau, N*period, 1024)\n",
    "plt.figure(figsize=[8, 4])\n",
    "plt.plot(t_band*1e6, [boxcar(t, tau) for t in t_band])\n",
    "plt.xlabel(\"Время $t$, мкс\")\n",
    "plt.ylabel(\"$x(t)$, В\")\n",
    "plt.title(\"Сигнал\")\n",
    "plt.tight_layout() \n",
    "plt.grid()\n",
    "plt.show()\n",
    "\n",
    "plt.figure(figsize=[8, 4])\n",
    "plt.plot(f_band/1e3, fourier_transform(signal=boxcar, f_band=f_band, tau=tau, t1=0, t2=N*period, res_type=\"abs\")*1e6)\n",
    "plt.title(\"Спектр\")\n",
    "plt.xlabel(\"Частота $f$, кГц\")\n",
    "plt.ylabel(\"$|X(f)|$,  мкВ / Гц\")\n",
    "plt.tight_layout() \n",
    "plt.grid()\n",
    "plt.show()"
   ]
  },
  {
   "cell_type": "markdown",
   "metadata": {
    "id": "h7lYnKLPzA8C"
   },
   "source": [
    "# Занятие 3. Эффект наложения спектров при дискретизации сигналов."
   ]
  },
  {
   "cell_type": "markdown",
   "metadata": {
    "id": "YnDe_D_fzA8C"
   },
   "source": [
    "## Задача 3.1. Эффект наложения при дискретизации прямоугольного импульса"
   ]
  },
  {
   "cell_type": "markdown",
   "metadata": {
    "id": "Rfo4WnqH9mhk"
   },
   "source": [
    "|  Варианты:  |  1  |  2  |   3  |   4  |  5  |   6  |  7  |   8  |   9  |  10 |  11  |  12  |\n",
    "|:-----------:|:---:|:---:|:----:|:----:|:---:|:----:|:---:|:----:|:----:|:---:|:----:|:----:|\n",
    "| $\\tau$**, мкс** | 100 | 500 | 1000 | 5000 | 400 | 2000 | 300 | 1500 | 3000 | 800 | 3500 | 4000 |\n"
   ]
  },
  {
   "cell_type": "markdown",
   "metadata": {
    "id": "EYjBFMM73XX0"
   },
   "source": [
    "Рассмотреть прямоугольный импульс длительностью $1.05\\tau$. Дискретизовать его с частотой $f_s  = 10/ \\tau $.  Построить спектр прямоугольного импульса и полученного дискретизованного сигнала. \n",
    "\n",
    "Пронаблюдать наложение спектра при дискретизации. \n",
    "\n",
    "Найти сигнал,  который дискретизуется такой же последовательностью, как и прямоугольный импульс, но при этом не наблюдается эффект наложения (сигнал, который восстанавливается с помощью интерполяционного ряда Котельникова)."
   ]
  },
  {
   "cell_type": "code",
   "execution_count": null,
   "metadata": {
    "id": "Ex3YLA5kzA8D"
   },
   "outputs": [],
   "source": [
    "def DTFT_abs3(xk, fs, M=2048):\n",
    "    res=abs(np.fft.fftshift(np.fft.fft(xk, M)))\n",
    "    return fs*np.arange(-1.5, 1.5, 1/M), np.hstack((res, res, res)) "
   ]
  },
  {
   "cell_type": "code",
   "execution_count": null,
   "metadata": {
    "colab": {
     "base_uri": "https://localhost:8080/",
     "height": 631
    },
    "id": "wNOLJjkIzA8D",
    "outputId": "828e6e87-ca3b-4a87-fa84-b3f6ea8fe8c0"
   },
   "outputs": [],
   "source": [
    "tau=200*1e-6 #200 мкс\n",
    "fs=10/tau\n",
    "\n",
    "f_band=np.linspace(-1.5*fs, 1.5*fs, 1000) # 1000 - число точек в диапазоне, в которых вычисляется X(f)\n",
    "\n",
    "def boxcar(t, tau):\n",
    "    if 0 <= t <= 1.05*tau:\n",
    "        return 1.0 \n",
    "    elif np.isclose(t, 1.05*tau, atol=1e-12) or np.isclose(t, 0, atol=1e-12):\n",
    "        return 1.0 \n",
    "    else:\n",
    "        return 0.0 \n",
    "\n",
    "def sinc_phi(t, k, fs):\n",
    "    dt=1/fs\n",
    "    if np.isclose(0, t-k*dt):\n",
    "        return 1.0\n",
    "    else:\n",
    "        return np.sin(np.pi*fs*(t-k*dt))/(np.pi*fs*(t-k*dt))\n",
    "    \n",
    "def sinc_interp(t, xk):\n",
    "    return sum([xk[k]*fs*sinc_phi(t, k, fs) for k in range(len(xk))])\n",
    "\n",
    "tk = np.arange(0, 2*tau+1.0/fs, 1.0/fs, dtype=float)\n",
    "xk = np.array([(1/fs)*boxcar(tk1, tau) for tk1 in tk])\n",
    "    \n",
    "t_band=np.linspace(-0.2*tau, 2*tau, 1024)\n",
    "plt.figure(figsize=[8, 4])\n",
    "plt.plot(t_band*1e6, [boxcar(t, tau) for t in t_band], 'g', label='прямоугольный импульс')\n",
    "plt.stem(tk*1e6, xk*fs, linefmt='b', markerfmt='bo', label='отсчеты сигнала $x[k]/{\\\\Delta t}$')\n",
    "\n",
    "\n",
    "\n",
    "plt.plot(t_band*1e6, np.array([sinc_interp(t, xk) for t in t_band]), 'c', label='сигнал, востановленный \\nрядом Котельникова')\n",
    "\n",
    "plt.title(\"Сигнал\")\n",
    "plt.xlabel(\"Время $t$, мкс\")\n",
    "plt.ylabel(\"$x(t)$, В\")\n",
    "plt.grid()\n",
    "plt.legend(loc='best', bbox_to_anchor=(1, 1))\n",
    "plt.tight_layout() \n",
    "plt.show()\n",
    "\n",
    "plt.figure(figsize=[8, 4])\n",
    "\n",
    "\n",
    "DFTF_plot=DTFT_abs3(xk, fs)\n",
    "plt.plot(DFTF_plot[0]/1e3, DFTF_plot[1]*1e6, 'b', label='ДВПФ для $x[k]$')\n",
    "\n",
    "plt.plot(f_band/1e3, fourier_transform(signal=boxcar, f_band=f_band, tau=tau, t1=-2*tau, t2=2*tau, res_type=\"abs\")*1e6, \n",
    "         'g', label='спектр\\nпрямоугольного\\nимпульса')\n",
    "\n",
    "plt.title(\"Спектр\")\n",
    "plt.xlabel(\"Частота $f$, кГц\")\n",
    "plt.ylabel(\"$|X(f)|$,  мкВ / Гц\")\n",
    "plt.grid()\n",
    "plt.legend(loc='best', bbox_to_anchor=(1, 1))\n",
    "plt.tight_layout() \n",
    "plt.show()"
   ]
  },
  {
   "cell_type": "markdown",
   "metadata": {
    "id": "uxA47-RtzA8D"
   },
   "source": [
    "## Задача 3.2. Эффект наложения при прореживании сигнала"
   ]
  },
  {
   "cell_type": "markdown",
   "metadata": {
    "id": "2DZ1QeR98yLU"
   },
   "source": [
    "| Варианты: | 1  | 2  | 3  | 4  | 5  | 6  | 7  | 8  | 9  | 10 | 11 | 12 |\n",
    "|:---------:|----|----|----|----|----|----|----|----|----|----|----|----|\n",
    "| $K_1$     | 35 | 10 | 20 | 25 | 15 | 40 | 20 | 15 | 40 | 35 | 10 | 25 |\n",
    "| $K_2$     | 70 | 60 | 65 | 80 | 75 | 90 | 85 | 60 | 95 | 80 | 70 | 75 |"
   ]
  },
  {
   "cell_type": "markdown",
   "metadata": {
    "id": "S93__PUhzA8E"
   },
   "source": [
    "\n",
    "Выполнить прореживание (downsampling) сигнала камертона из файла `tuning-fork.wav` (основная частота сигнала 440 Гц, частота дискретизации 44100 Гц) без предварительной фильтрации, оставляя в одном случае каждый $K_1$-ый, а в другом каждый $K_2$-ый отсчет сигнала. В чем принципиальное отличие между спектрами получившихся сигналов и какими эффектами оно обусловлено? "
   ]
  },
  {
   "cell_type": "code",
   "execution_count": null,
   "metadata": {
    "id": "PmNZ84kFzA8E"
   },
   "outputs": [],
   "source": [
    "def DTFT_abs(xk, fs, M=2**17):\n",
    "    res=abs(np.fft.fftshift(np.fft.fft(xk, M)))\n",
    "    return fs*np.arange(-0.5, 0.5, 1/M), np.hstack((res)) "
   ]
  },
  {
   "cell_type": "code",
   "execution_count": null,
   "metadata": {
    "colab": {
     "base_uri": "https://localhost:8080/",
     "height": 661
    },
    "id": "MCSFkSsSzA8E",
    "outputId": "107b68eb-7e2f-4407-8d1f-fbd84a5791d6",
    "scrolled": false
   },
   "outputs": [],
   "source": [
    "fs, x=scipy.io.wavfile.read('tuning-fork.wav')\n",
    "#for mono channel \n",
    "#x=x[:,1] \n",
    "\n",
    "plt.figure(figsize=[8, 3], dpi=100)\n",
    "\n",
    "DFTF_plot=DTFT_abs(x/fs, fs)\n",
    "plt.plot(DFTF_plot[0], DFTF_plot[1])\n",
    "plt.grid()\n",
    "plt.title(\"ДВПФ исходного сигнала\")\n",
    "plt.xlabel(\"Частота $f$, Гц\")\n",
    "plt.ylabel(\"$|X(f)|$\")\n",
    "plt.tight_layout() \n",
    "\n",
    "# downsampling\n",
    "plt.figure(figsize=[8, 3], dpi=100)\n",
    "K1=40\n",
    "y=x[::K1]\n",
    "DFTF_plot=DTFT_abs(y/(fs/K1), fs/K1)\n",
    "plt.plot(DFTF_plot[0], DFTF_plot[1])\n",
    "plt.grid()\n",
    "plt.title(\"ДВПФ прореженного сигнала $К_1=$%i\" %K1)\n",
    "plt.xlabel(\"Частота $f$, Гц\")\n",
    "plt.ylabel(\"$|X(f)|$\")\n",
    "plt.tight_layout()\n",
    "plt.show()\n",
    "\n",
    "# downsampling\n",
    "plt.figure(figsize=[8, 3], dpi=100)\n",
    "K2=80\n",
    "y=x[::K2]\n",
    "    \n",
    "DFTF_plot=DTFT_abs(y/(fs/K2), fs/K2)\n",
    "plt.plot(DFTF_plot[0], DFTF_plot[1])\n",
    "plt.grid()\n",
    "plt.title(\"ДВПФ прореженного сигнала $К_2=$%i\" %K2)\n",
    "plt.xlabel(\"Частота $f$, Гц\")\n",
    "plt.ylabel(\"$|X(f)|$\")\n",
    "plt.tight_layout() \n",
    "plt.show()"
   ]
  },
  {
   "cell_type": "code",
   "execution_count": null,
   "metadata": {},
   "outputs": [],
   "source": []
  }
 ],
 "metadata": {
  "colab": {
   "collapsed_sections": [],
   "name": "Lab1_task.ipynb",
   "provenance": []
  },
  "kernelspec": {
   "display_name": "venv",
   "language": "python",
   "name": "python3"
  },
  "language_info": {
   "codemirror_mode": {
    "name": "ipython",
    "version": 3
   },
   "file_extension": ".py",
   "mimetype": "text/x-python",
   "name": "python",
   "nbconvert_exporter": "python",
   "pygments_lexer": "ipython3",
   "version": "3.14.0"
  }
 },
 "nbformat": 4,
 "nbformat_minor": 1
}
